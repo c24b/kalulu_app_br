{
 "cells": [
  {
   "cell_type": "markdown",
   "metadata": {},
   "source": [
    "## Lesson\n",
    "\n",
    "The game is separated into lesson for each subject, a lesson as well as a chapter is defined by the pedagogical path (stored in `path` table and defined as a reference by the admin at start-up).\n",
    "\n",
    "Lesson is an information that we can find in 2 different places:\n",
    "\n",
    "- in info widget\n",
    "- in last activity widget\n"
   ]
  },
  {
   "cell_type": "markdown",
   "metadata": {},
   "source": [
    "##### Info widget\n",
    "\n",
    "![](./screenshots/widget_activity.png)"
   ]
  },
  {
   "cell_type": "code",
   "execution_count": null,
   "metadata": {},
   "outputs": [],
   "source": [
    "##### Last activity widget\n",
    "\n",
    "Last activity widget displays information on the \n",
    "\n",
    "\n",
    "db.student_lessons.find({student:3343, subject:\"numbers\"}, {records:0})\n",
    "{ \"_id\" : ObjectId(\"5ea9e08214a42d9b95a15178\"), \"tags\" : [ 1, 2, 3, 0, 4, 5, 6, 7, 8, 9, 10, 11, 12, 13, 14, 15, 16, 17, 18, 19, 20, 22, 25, 32, 35 ], \"%CA_colors\" : [ \"green\", \"green\", \"green\", \"green\", \"green\", \"green\", \"green\", \"green\", \"green\", \"green\", \"green\", \"green\", \"green\", \"green\", \"green\", \"green\", \"green\", \"green\", \"green\", \"green\", \"green\", \"green\", \"green\", \"green\", \"green\" ], \"student\" : 3343, \"chapter_colors\" : [ \"#9670E0\", \"#9670E0\", \"#9670E0\", \"#FFE822\", \"#FFE822\", \"#FFE822\", \"#ED9AB5\", \"#ED9AB5\", \"#ED9AB5\", \"#A84349\", \"#A84349\", \"#9FF9AB\", \"#9FF9AB\", \"#C3C2C4\", \"#C3C2C4\", \"#FFAF57\", \"#FFAF57\", \"#50FEE4\", \"#50FEE4\", \"#7AD1FF\", \"#7AD1FF\", \"#C3C2C4\", \"#C3C2C4\", \"#FFE822\", \"#FFE822\" ], \"chapters\" : [ 1, 1, 1, 2, 2, 2, 3, 3, 3, 4, 4, 6, 6, 7, 7, 8, 8, 9, 9, 10, 10, 11, 11, 12, 12 ], \"dataset\" : \"numbers\", \"lesson_ids\" : [ 1, 2, 3, 4, 5, 6, 7, 8, 9, 10, 11, 14, 15, 16, 17, 18, 19, 20, 21, 22, 23, 24, 25, 26, 27 ], \"timespents\" : [ 329, 314, 1213, 151, 638, 932, 985, 929, 561, 820, 3925, 1247, 3836, 1711, 5299, 27, 378, 860, 10588, 1135, 4208, 66, 12568, 1854, 406 ], \"classroom\" : 33, \"subject\" : \"numbers\", \"group\" : \"m/r\" }\n",
    "> db.path.find({lesson:27,subject:\"numbers\"}, {records:0})\n",
    "{ \"_id\" : ObjectId(\"5ea628987cc4d8492f7feb26\"), \"chapter_color\" : \"#FFE822\", \"lesson\" : 27, \"chapter\" : 12, \"visualaudio\" : \"35-35\", \"dataset\" : \"numbers\", \"visual\" : 35, \"subject\" : \"numbers\", \"audio\" : 35, \"tag\" : 35, \"games\" : [ \"jellyfish\", \"ants\", \"caterpillar\" ] }\n",
    "{ \"_id\" : ObjectId(\"5ea628987cc4d8492f7feb27\"), \"chapter_color\" : \"#FFE822\", \"lesson\" : 27, \"chapter\" : 12, \"visualaudio\" : \"36-36\", \"dataset\" : \"numbers\", \"visual\" : 36, \"subject\" : \"numbers\", \"audio\" : 36, \"tag\" : 36 }\n",
    "{ \"_id\" : ObjectId(\"5ea628987cc4d8492f7feb28\"), \"chapter_color\" : \"#FFE822\", \"lesson\" : 27, \"chapter\" : 12, \"visualaudio\" : \"37-37\", \"dataset\" : \"numbers\", \"visual\" : 37, \"subject\" : \"numbers\", \"audio\" : 37, \"tag\" : 37 }\n",
    "{ \"_id\" : ObjectId(\"5ea628987cc4d8492f7feb29\"), \"chapter_color\" : \"#FFE822\", \"lesson\" : 27, \"chapter\" : 12, \"visualaudio\" : \"38-38\", \"dataset\" : \"numbers\", \"visual\" : 38, \"subject\" : \"numbers\", \"audio\" : 38, \"tag\" : 38 }\n",
    "{ \"_id\" : ObjectId(\"5ea628987cc4d8492f7feb2a\"), \"chapter_color\" : \"#FFE822\", \"lesson\" : 27, \"chapter\" : 12, \"visualaudio\" : \"39-39\", \"dataset\" : \"numbers\", \"visual\" : 39, \"subject\" : \"numbers\", \"audio\" : 39, \"tag\" : 39 }\n"
   ]
  }
 ],
 "metadata": {
  "kernelspec": {
   "display_name": "Python 3",
   "language": "python",
   "name": "python3"
  },
  "language_info": {
   "codemirror_mode": {
    "name": "ipython",
    "version": 3
   },
   "file_extension": ".py",
   "mimetype": "text/x-python",
   "name": "python",
   "nbconvert_exporter": "python",
   "pygments_lexer": "ipython3",
   "version": "3.6.9"
  }
 },
 "nbformat": 4,
 "nbformat_minor": 2
}
